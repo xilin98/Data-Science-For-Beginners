{
 "cells": [
  {
   "cell_type": "code",
   "execution_count": 1,
   "metadata": {},
   "outputs": [
    {
     "name": "stdout",
     "output_type": "stream",
     "text": [
      "['the', 'quick', 'brown', 'fox', 'jumps', 'over', 'the', 'lazy', 'dog']\n"
     ]
    }
   ],
   "source": [
    "sentence = \"the quick brown fox jumps over the lazy dog\"\n",
    "print(sentence.split())\n"
   ]
  },
  {
   "cell_type": "markdown",
   "metadata": {},
   "source": [
    "列表推导式（List Comprehensions）是Python中一个非常强大且常用的工具，它允许你通过一个简单的表达式创建一个新的列表。这个表达式定义了如何根据另一个列表（或任何可迭代对象）中的元素来生成新列表中的元素。列表推导式的一大优点是它的语法简洁，能够用一行代码替代多行循环代码，使代码更加易读和简洁。\n",
    "\n",
    "基本语法\n",
    "列表推导式的基本语法如下：\n",
    "\n",
    "\n",
    "[new_element for element in iterable if condition]\n",
    "new_element是根据旧列表（或其他可迭代对象）中的元素通过某种操作生成的新元素。\n",
    "element是从旧列表（或其他可迭代对象）中依次取出的当前元素。\n",
    "iterable是原始的列表（或其他可迭代对象）。\n",
    "condition是一个可选的条件语句，用于筛选满足条件的元素。\n",
    "使用示例\n",
    "假设我们有一个数字列表，我们想要创建一个新的列表，其中包含原列表中每个数字的平方，我们可以使用列表推导式来实现这一点：\n",
    "\n",
    "\n",
    "original_list = [1, 2, 3, 4, 5]\n",
    "squared_list = [x ** 2 for x in original_list]\n",
    "print(squared_list)  # 输出：[1, 4, 9, 16, 25]\n",
    "如果我们只想要原列表中偶数的平方，则可以添加一个条件：\n",
    "\n",
    "\n",
    "original_list = [1, 2, 3, 4, 5]\n",
    "squared_list = [x ** 2 for x in original_list if x % 2 == 0]\n",
    "print(squared_list)  # 输出：[4, 16]\n",
    "优势\n",
    "代码简洁：使用列表推导式可以让代码更加简洁，减少不必要的循环语句。\n",
    "提高可读性：由于列表推导式的结构清晰，它可以让其他人更容易理解你的代码意图。\n",
    "性能优化：在许多情况下，列表推导式的执行效率要高于等效的for循环。\n",
    "总之，列表推导式是Python编程中一个非常有用的特性，能够让数据处理和生成新列表的代码更加简洁和高效。"
   ]
  },
  {
   "cell_type": "code",
   "execution_count": 2,
   "metadata": {},
   "outputs": [
    {
     "name": "stdout",
     "output_type": "stream",
     "text": [
      "First: 1\n",
      "Second: 2\n",
      "Third: 3\n",
      "And all the rest... [4, 5]\n"
     ]
    }
   ],
   "source": [
    "def foo(first, second, third, *therest):\n",
    "    print(\"First: %s\" %(first))\n",
    "    print(\"Second: %s\" %(second))\n",
    "    print(\"Third: %s\" %(third))\n",
    "    print(\"And all the rest... %s\" %(list(therest)))\n",
    "\n",
    "foo(1, 2, 3, 4, 5)\n"
   ]
  },
  {
   "cell_type": "code",
   "execution_count": 3,
   "metadata": {},
   "outputs": [
    {
     "name": "stdout",
     "output_type": "stream",
     "text": [
      "The sum is: 6\n",
      "Result: 1\n"
     ]
    }
   ],
   "source": [
    "def bar(first, second, third, **options):\n",
    "    if options.get(\"action\") == \"sum\":\n",
    "        print(\"The sum is: %d\" %(first + second + third))\n",
    "\n",
    "    if options.get(\"number\") == \"first\":\n",
    "        return first\n",
    "\n",
    "result = bar(1, 2, 3, action = \"sum\", number = \"first\")\n",
    "print(\"Result: %d\" %(result))\n"
   ]
  },
  {
   "cell_type": "markdown",
   "metadata": {},
   "source": [
    "在 Python 中使用正则表达式（regex）主要依赖于内置的 `re` 模块。这个模块提供了一系列的功能来处理字符串搜索、匹配、替换等操作。下面是一些基本的用法：\n",
    "\n",
    "1. **搜索匹配**：\n",
    "   - `re.search(pattern, string)`：扫描整个字符串，返回第一个成功的匹配对象，如果没有找到匹配，则返回 None。\n",
    "   \n",
    "2. **完全匹配**：\n",
    "   - `re.match(pattern, string)`：如果字符串从开始就匹配正则表达式，则返回一个匹配对象；否则返回 None。\n",
    "\n",
    "3. **查找所有匹配**：\n",
    "   - `re.findall(pattern, string)`：返回字符串中所有非重叠匹配的列表。\n",
    "   \n",
    "4. **分割字符串**：\n",
    "   - `re.split(pattern, string)`：根据模式的匹配项来分割字符串。\n",
    "   \n",
    "5. **替换**：\n",
    "   - `re.sub(pattern, repl, string)`：替换字符串中的匹配项。\n",
    "\n",
    "6. **编译正则表达式**：\n",
    "   - `re.compile(pattern)`：编译一个正则表达式模式，返回一个对象，可以用于匹配、搜索、替换等操作。使用编译后的模式可以提高效率，特别是在多次使用相同的模式时。\n",
    "\n",
    "下面是一个简单的例子，展示如何使用 `re` 模块来查找一个字符串中所有的数字：\n",
    "\n",
    "```python\n",
    "import re\n",
    "\n",
    "text = \"12 drummers drumming, 11 pipers piping, 10 lords a-leaping\"\n",
    "\n",
    "# 查找所有的数字\n",
    "numbers = re.findall(r'\\d+', text)\n",
    "print(numbers)\n",
    "```\n",
    "\n",
    "这个例子中，`r'\\d+'` 是一个正则表达式，用来匹配一个或多个数字。`findall` 函数会找出字符串中所有匹配这个模式的部分，并返回一个包含这些匹配项的列表。"
   ]
  },
  {
   "cell_type": "markdown",
   "metadata": {},
   "source": [
    "在 Python 中，错误处理是通过使用 `try` 和 `except` 语句块来完成的。这使得程序能够优雅地处理运行时错误（异常），并在发生错误时提供一种恢复的方式或者至少优雅地终止程序。下面是错误处理的一些基本概念和用法：\n",
    "\n",
    "### 异常\n",
    "异常是程序执行时发生的错误。在 Python 中，几乎所有的错误都是以抛出异常的形式来表示的。这些异常都是从 `BaseException` 类派生出来的。\n",
    "\n",
    "### try 和 except 块\n",
    "- **try 块**：尝试执行可能会引发异常的代码。\n",
    "- **except 块**：处理 try 块中抛出的特定异常。\n",
    "\n",
    "### 基本语法\n",
    "```python\n",
    "try:\n",
    "    # 尝试执行的代码\n",
    "    pass\n",
    "except SomeException:\n",
    "    # 如果在 try 块中发生了 SomeException 异常，则执行这块代码\n",
    "    pass\n",
    "except (AnotherException, YetAnotherException) as e:\n",
    "    # 可以同时处理多个异常，异常对象可以使用 as 来绑定\n",
    "    print(e)\n",
    "else:\n",
    "    # 如果 try 块没有抛出任何异常，则执行这块代码\n",
    "    pass\n",
    "finally:\n",
    "    # 不管有没有异常发生，都会执行这块代码\n",
    "    pass\n",
    "```\n",
    "\n",
    "### 异常的类型\n",
    "Python 标准库定义了多种异常类型，如 `ValueError`、`TypeError`、`IOError` 等，以便于区分不同的错误情形。此外，你还可以定义自己的异常类型。\n",
    "\n",
    "### 使用示例\n",
    "假设我们有一个函数，它会根据传入的参数计算一个值。如果参数是非法的，函数会抛出一个 `ValueError`：\n",
    "\n",
    "```python\n",
    "def calculate_value(param):\n",
    "    if param < 0:\n",
    "        raise ValueError(\"参数必须是非负数\")\n",
    "    # 假设这里有一些计算\n",
    "    return param * 2\n",
    "\n",
    "try:\n",
    "    result = calculate_value(-1)\n",
    "except ValueError as e:\n",
    "    print(e)\n",
    "else:\n",
    "    print(\"计算结果是:\", result)\n",
    "```\n",
    "\n",
    "在这个例子中，如果 `calculate_value` 函数抛出了 `ValueError`，则会在 except 块中捕获并处理这个异常。如果没有异常发生，`else` 块中的代码会被执行。\n",
    "\n",
    "### 自定义异常\n",
    "你还可以定义自己的异常类型，这通常是通过继承 `Exception` 类来完成的。自定义异常可以让你的代码更加清晰，并且可以处理更加特定的错误情况。\n",
    "\n",
    "错误处理是 Python 编程中的一个重要方面，合理地使用异常处理机制可以使你的程序更加健壯和易于维护。"
   ]
  }
 ],
 "metadata": {
  "kernelspec": {
   "display_name": "Python 3",
   "language": "python",
   "name": "python3"
  },
  "language_info": {
   "codemirror_mode": {
    "name": "ipython",
    "version": 3
   },
   "file_extension": ".py",
   "mimetype": "text/x-python",
   "name": "python",
   "nbconvert_exporter": "python",
   "pygments_lexer": "ipython3",
   "version": "3.8.19"
  }
 },
 "nbformat": 4,
 "nbformat_minor": 2
}
