{
 "cells": [
  {
   "cell_type": "code",
   "execution_count": null,
   "metadata": {},
   "outputs": [],
   "source": [
    "import pandas as pd\n",
    "df = pd.read_csv(\"./example_data.csv\")\n"
   ]
  },
  {
   "cell_type": "code",
   "execution_count": null,
   "metadata": {},
   "outputs": [],
   "source": [
    "df.describe()\n"
   ]
  },
  {
   "cell_type": "code",
   "execution_count": null,
   "metadata": {},
   "outputs": [],
   "source": [
    "import seaborn as sns\n",
    "import matplotlib.pyplot as plt\n",
    "\n",
    "# 假设df是你的DataFrame\n",
    "plt.figure(figsize=(10, 6))\n",
    "sns.heatmap(df.isnull(), cbar=False, cmap='viridis')\n",
    "plt.show()\n"
   ]
  },
  {
   "cell_type": "code",
   "execution_count": null,
   "metadata": {},
   "outputs": [],
   "source": [
    "# 假设df是你的DataFrame，筛选出'Feature_2'列值大于10的行\n",
    "filtered_df = df[df['Feature_2'] > 0.5]\n",
    "print(filtered_df)\n",
    "\n"
   ]
  },
  {
   "cell_type": "code",
   "execution_count": null,
   "metadata": {},
   "outputs": [],
   "source": [
    "# 按照'Feature_2'列的值分组，并计算每组的'Feature_1'列的平均值\n",
    "grouped_data = df.groupby('Feature_2')['Feature_1'].mean()\n",
    "print(grouped_data)\n"
   ]
  },
  {
   "cell_type": "code",
   "execution_count": null,
   "metadata": {},
   "outputs": [],
   "source": [
    "import pandas as pd\n",
    "import numpy as np\n",
    "\n",
    "# 创建示例时间序列数据\n",
    "rng = pd.date_range('2024-01-01', periods=90, freq='D')\n",
    "df = pd.DataFrame({ 'Date': rng, 'Value': np.random.rand(len(rng)) })\n",
    "\n",
    "# 将日期设置为索引\n",
    "df.set_index('Date', inplace=True)\n",
    "\n",
    "# 按月重采样并计算每个月的平均值\n",
    "mon_data = monthly_resampled_data = df.resample('M')\n",
    "mean_mon_data = mon_data.mean()\n",
    "print(mon_data)\n",
    "print(\"================================\")\n",
    "print(mean_mon_data)\n"
   ]
  },
  {
   "cell_type": "code",
   "execution_count": null,
   "metadata": {},
   "outputs": [],
   "source": [
    "from sklearn.preprocessing import PolynomialFeatures\n",
    "import numpy as np\n",
    "\n",
    "# 假设X是包含一些特征的numpy数组\n",
    "X = np.array([[1, 2], [3, 4], [5, 6]])\n",
    "\n",
    "# 实例化PolynomialFeatures对象，设置degree=2\n",
    "poly = PolynomialFeatures(degree=2)\n",
    "\n",
    "# 使用fit_transform方法对数据进行转换\n",
    "X_poly = poly.fit_transform(X)\n",
    "\n",
    "# X_poly包含了原始特征、特征的平方以及特征之间的交互项\n",
    "print(X_poly)\n"
   ]
  },
  {
   "cell_type": "code",
   "execution_count": null,
   "metadata": {},
   "outputs": [],
   "source": [
    "from sklearn.model_selection import train_test_split\n",
    "from sklearn.linear_model import LinearRegression\n",
    "from sklearn.metrics import mean_squared_error\n",
    "import numpy as np\n",
    "\n",
    "# 假设X和y已经准备好了，其中X是特征矩阵，y是目标变量\n",
    "X =np.array([[5.91013086],\n",
    "              [2.50039302],\n",
    "              [3.94684496],\n",
    "              [7.10223300],\n",
    "              [6.16889498]])\n",
    "\n",
    "y = np.array([21.00837393, 10.94741601, 14.62937747, 24.35905601, 21.62071159])\n",
    "\n",
    "# 划分训练集和测试集\n",
    "X_train, X_test, y_train, y_test = train_test_split(X, y, test_size=0.2, random_state=42)\n",
    "\n",
    "# 初始化模型\n",
    "model = LinearRegression()\n",
    "\n",
    "# 训练模型\n",
    "model.fit(X_train, y_train)\n",
    "\n",
    "# 预测测试集\n",
    "y_pred = model.predict(X_test)\n",
    "\n",
    "# 评估模型\n",
    "mse = mean_squared_error(y_test, y_pred)\n",
    "print(f\"Mean Squared Error: {mse}\")\n",
    "\n",
    "# 使用模型进行预测\n",
    "# 假设我们有一个新的特征矩阵X_new\n",
    "# X_new = ...\n",
    "# 进行预测\n",
    "# y_new_pred = model.predict(X_new)\n"
   ]
  },
  {
   "cell_type": "code",
   "execution_count": null,
   "metadata": {},
   "outputs": [],
   "source": [
    "# 生成示例数据\n",
    "\n",
    "import seaborn as sns\n",
    "import matplotlib.pyplot as plt\n",
    "np.random.seed(10)\n",
    "data = {\n",
    "    'Group': np.random.choice(['A', 'B'], size=200),\n",
    "    'Value': np.concatenate((np.random.normal(loc=0, scale=1, size=100), np.random.normal(loc=1, scale=2, size=100)))\n",
    "}\n",
    "\n",
    "df = pd.DataFrame(data)\n",
    "# 假设df是一个pandas DataFrame，其中包含两个变量的数据：'Group'和'Value'\n",
    "sns.kdeplot(data=df, x=\"Value\", hue=\"Group\", fill=True)\n",
    "\n",
    "plt.title('Distribution Comparison by Group')\n",
    "plt.show()\n"
   ]
  },
  {
   "cell_type": "code",
   "execution_count": null,
   "metadata": {},
   "outputs": [],
   "source": [
    "print(True)\n",
    "print(False)\n",
    "\n",
    "print(type(True))\n",
    "a = bool(0)\n",
    "print(a)\n",
    "\n",
    "c = bool(\"\")\n",
    "print(c)\n"
   ]
  },
  {
   "cell_type": "code",
   "execution_count": null,
   "metadata": {},
   "outputs": [],
   "source": [
    "print(type(None))\n",
    "print(type(type(None)))\n"
   ]
  },
  {
   "cell_type": "code",
   "execution_count": null,
   "metadata": {},
   "outputs": [],
   "source": [
    "num = 1024\n",
    "bit_length = num.bit_length()\n",
    "print(bit_length)\n"
   ]
  },
  {
   "cell_type": "code",
   "execution_count": null,
   "metadata": {},
   "outputs": [],
   "source": [
    "a = (1)\n",
    "print(a)\n",
    "print(type(a))\n",
    "b = (1,)\n",
    "print(b)\n",
    "print(type(b))\n"
   ]
  },
  {
   "cell_type": "code",
   "execution_count": null,
   "metadata": {},
   "outputs": [],
   "source": [
    "if('a' in ('b', 'c')):\n",
    "  print('aaa')\n",
    "\n",
    "if('a' in ('a','b', 'c')):\n",
    "  print('aaa')\n"
   ]
  },
  {
   "cell_type": "code",
   "execution_count": null,
   "metadata": {},
   "outputs": [],
   "source": []
  },
  {
   "cell_type": "markdown",
   "metadata": {},
   "source": [
    "python 中的假值 1. An empty string: \"\" 2. An empty list: [] 3. The number zero: 0 4. The false boolean"
   ]
  },
  {
   "cell_type": "code",
   "execution_count": null,
   "metadata": {},
   "outputs": [],
   "source": [
    "print([1,2] == [1,2])\n",
    "print([1,2] == [2,1])\n"
   ]
  },
  {
   "cell_type": "code",
   "execution_count": null,
   "metadata": {},
   "outputs": [],
   "source": [
    "class MyClass:\n",
    "    variable = \"blah\"\n",
    "\n",
    "    def function(self):\n",
    "        print(\"This is a message inside the class.\")\n",
    "\n",
    "myobjectx = MyClass()\n",
    "\n",
    "myobjectx.variable\n",
    "myobjectx.function()\n"
   ]
  },
  {
   "cell_type": "code",
   "execution_count": null,
   "metadata": {},
   "outputs": [],
   "source": [
    "import urllib\n",
    "help(urllib)\n"
   ]
  },
  {
   "cell_type": "code",
   "execution_count": null,
   "metadata": {},
   "outputs": [],
   "source": [
    "# Create 2 new lists height and weight\n",
    "height = [1.87,  1.87, 1.82, 1.91, 1.90, 1.85]\n",
    "weight = [81.65, 97.52, 95.25, 92.98, 86.18, 88.45]\n",
    "\n",
    "# Import the numpy package as np\n",
    "import numpy as np\n",
    "\n",
    "# Create 2 numpy arrays from height and weight\n",
    "np_height = np.array(height)\n",
    "np_weight = np.array(weight)\n"
   ]
  },
  {
   "cell_type": "markdown",
   "metadata": {},
   "source": [
    "NumPy数组（numpy.ndarray）和Python列表（list）是Python中用于存储数据集合的两种不同类型，它们各自有不同的特性和用途。以下是它们之间的一些主要区别：\n",
    "\n",
    "性能\n",
    "NumPy数组提供了高性能的多维数组支持，以及用于科学计算的广泛工具。它们在内存中存储为连续的数据块。由于NumPy的底层是用C语言编写的，它能够提供快速的数组处理能力。\n",
    "Python列表是一种更通用的数据结构，可以存储不同类型的元素。列表中的元素在内存中不一定连续存储。因此，对于大规模数值运算，列表比NumPy数组慢得多。\n",
    "功能\n",
    "NumPy数组支持元素级别的运算和广播（broadcasting），这使得对整个数组的数学运算变得非常简单和高效。例如，你可以轻松地对数组的每个元素进行加法或乘法运算。\n",
    "Python列表不支持这种元素级别的运算。要对列表中的每个元素进行运算，通常需要使用循环。\n",
    "数据类型\n",
    "NumPy数组中的所有元素必须是相同类型的，这有助于提高计算效率。当你创建一个NumPy数组时，你可以指定一个统一的数据类型（如float, int等）。\n",
    "Python列表可以包含不同类型的元素，例如整数、字符串和其他对象。\n",
    "存储空间\n",
    "NumPy数组由于其元素类型相同和优化的存储方式，通常比等价的Python列表使用更少的存储空间。\n",
    "Python列表由于其灵活性和能够存储不同类型的元素，所以在存储同样多的数据时可能会占用更多的内存。\n",
    "应用场景\n",
    "NumPy数组被广泛用于科学计算、数据分析、机器学习等领域，特别是在处理大规模数据时。\n",
    "Python列表适用于更通用的编程需求，特别是当你需要一个可以包含多种类型元素的灵活容器时。\n",
    "总之，NumPy数组和Python列表各有优势，选择哪一种取决于你的具体需求：如果你需要进行密集的数学计算，特别是涉及大量数据时，NumPy数组是更好的选择；如果你需要一个可以包含不同类型元素的灵活数据结构，Python列表可能更适合。"
   ]
  },
  {
   "cell_type": "code",
   "execution_count": null,
   "metadata": {},
   "outputs": [],
   "source": [
    "print(type(np_height))\n"
   ]
  },
  {
   "cell_type": "code",
   "execution_count": null,
   "metadata": {},
   "outputs": [],
   "source": [
    "bmi = np_weight / np_height ** 2\n",
    "\n",
    "# Print the result\n",
    "print(bmi)\n"
   ]
  },
  {
   "cell_type": "code",
   "execution_count": 21,
   "metadata": {},
   "outputs": [
    {
     "name": "stdout",
     "output_type": "stream",
     "text": [
      "        country    capital    area  population\n",
      "0        Brazil   Brasilia   8.516      200.40\n",
      "1        Russia     Moscow  17.100      143.50\n",
      "2         India  New Dehli   3.286     1252.00\n",
      "3         China    Beijing   9.597     1357.00\n",
      "4  South Africa   Pretoria   1.221       52.98\n"
     ]
    }
   ],
   "source": [
    "dict = {\"country\": [\"Brazil\", \"Russia\", \"India\", \"China\", \"South Africa\"],\n",
    "       \"capital\": [\"Brasilia\", \"Moscow\", \"New Dehli\", \"Beijing\", \"Pretoria\"],\n",
    "       \"area\": [8.516, 17.10, 3.286, 9.597, 1.221],\n",
    "       \"population\": [200.4, 143.5, 1252, 1357, 52.98] }\n",
    "\n",
    "import pandas as pd\n",
    "brics = pd.DataFrame(dict)\n",
    "print(brics)\n"
   ]
  },
  {
   "cell_type": "markdown",
   "metadata": {},
   "source": [
    "这段话讲解了如何在Pandas库中对DataFrame进行索引（即选择其特定部分）的一种方法，特别是如何选择DataFrame中的列。在Pandas中，DataFrame是一种二维的表格数据结构，它可以存储不同类型的数据并以列的形式组织。对DataFrame进行索引是数据处理和分析的常见任务，可以帮助你从较大的数据集中提取感兴趣的数据部分。\n",
    "\n",
    "使用方括号选择列\n",
    "当你使用方括号（[]）对DataFrame进行索引时，你可以通过列名来选择列。这里介绍了单个方括号和双重方括号两种用法，它们的返回值类型不同：\n",
    "\n",
    "单个方括号（[]）：当你使用单个方括号并传入列名时，比如df['column_name']，返回的是一个Pandas Series。Series是Pandas中的一维数组结构，用来存储单列的数据，同时保留索引。这种方式适合于选择单个列的情况。\n",
    "\n",
    "双重方括号（[[]]）：当你使用双重方括号并传入列名的列表时，比如df[['column_name']]，返回的是一个Pandas DataFrame。即使你只选择了一个列，使用双重方括号也会得到一个DataFrame，这个DataFrame只包含你选择的列。这种方式可以用于选择多个列，即使选择单个列时也适用，特别是当你需要保持数据的二维结构时。\n",
    "\n",
    "示例说明\n",
    "假设有一个名为cars的DataFrame，它包含了关于汽车的各种信息，比如品牌、型号、年份等。如果你想选择这个DataFrame中的'brand'列，可以用以下两种方式之一：\n",
    "\n",
    "cars['brand']：这会返回一个Series，包含所有汽车的品牌信息。\n",
    "cars[['brand']]：这会返回一个DataFrame，只包含一列，即所有汽车的品牌信息。\n",
    "选择使用哪种方式取决于你的需要：如果你需要的是一维数组，用于进一步的计算或分析，单个方括号可能更方便。如果你希望保留数据的二维结构，尤其是当你需要选择多个列或保持后续操作中DataFrame格式时，双重方括号会更适合。"
   ]
  },
  {
   "cell_type": "code",
   "execution_count": 28,
   "metadata": {},
   "outputs": [
    {
     "data": {
      "text/html": [
       "<div>\n",
       "<style scoped>\n",
       "    .dataframe tbody tr th:only-of-type {\n",
       "        vertical-align: middle;\n",
       "    }\n",
       "\n",
       "    .dataframe tbody tr th {\n",
       "        vertical-align: top;\n",
       "    }\n",
       "\n",
       "    .dataframe thead th {\n",
       "        text-align: right;\n",
       "    }\n",
       "</style>\n",
       "<table border=\"1\" class=\"dataframe\">\n",
       "  <thead>\n",
       "    <tr style=\"text-align: right;\">\n",
       "      <th></th>\n",
       "      <th>country</th>\n",
       "      <th>capital</th>\n",
       "      <th>area</th>\n",
       "      <th>population</th>\n",
       "    </tr>\n",
       "  </thead>\n",
       "  <tbody>\n",
       "    <tr>\n",
       "      <th>0</th>\n",
       "      <td>Brazil</td>\n",
       "      <td>Brasilia</td>\n",
       "      <td>8.516</td>\n",
       "      <td>200.4</td>\n",
       "    </tr>\n",
       "    <tr>\n",
       "      <th>1</th>\n",
       "      <td>Russia</td>\n",
       "      <td>Moscow</td>\n",
       "      <td>17.100</td>\n",
       "      <td>143.5</td>\n",
       "    </tr>\n",
       "    <tr>\n",
       "      <th>2</th>\n",
       "      <td>India</td>\n",
       "      <td>New Dehli</td>\n",
       "      <td>3.286</td>\n",
       "      <td>1252.0</td>\n",
       "    </tr>\n",
       "    <tr>\n",
       "      <th>3</th>\n",
       "      <td>China</td>\n",
       "      <td>Beijing</td>\n",
       "      <td>9.597</td>\n",
       "      <td>1357.0</td>\n",
       "    </tr>\n",
       "  </tbody>\n",
       "</table>\n",
       "</div>"
      ],
      "text/plain": [
       "  country    capital    area  population\n",
       "0  Brazil   Brasilia   8.516       200.4\n",
       "1  Russia     Moscow  17.100       143.5\n",
       "2   India  New Dehli   3.286      1252.0\n",
       "3   China    Beijing   9.597      1357.0"
      ]
     },
     "execution_count": 28,
     "metadata": {},
     "output_type": "execute_result"
    }
   ],
   "source": [
    "\n",
    "# brics[['country']][0:4]\n",
    "brics[0:4]\n"
   ]
  },
  {
   "cell_type": "markdown",
   "metadata": {},
   "source": [
    "Pandas DataFrame中另外两种数据选择（或称为索引）方法：loc和iloc。这两个方法提供了一种更灵活、更强大的数据选择方式，让你可以根据不同的标准选择数据集的特定部分。\n",
    "\n",
    "loc：基于标签的索引\n",
    "loc方法是基于标签（label-based）的索引，这意味着你需要按照数据帧（DataFrame）的行标签和列名来指定要选择的数据。使用loc时，你可以：\n",
    "\n",
    "选择单个行或列。\n",
    "选择行或列的范围。\n",
    "使用条件表达式选择满足特定条件的行。\n",
    "loc的用法非常灵活，例如，df.loc[行标签, 列名]可以用来选择特定的行和列。如果你只想选择某些行而选择所有列，可以使用df.loc[行标签]；同样，如果想选择某些列的所有行，可以使用df.loc[:, 列名]。\n",
    "\n",
    "iloc：基于整数位置的索引\n",
    "iloc方法是基于整数位置（integer-location based）的索引，这意味着你需要使用行和列的整数索引来指定选择的数据。它与Python原生列表或NumPy数组的索引方式相似。使用iloc时，你可以：\n",
    "\n",
    "选择单个行或列的数据。\n",
    "选择行或列的范围。\n",
    "通过传递整数列表选择特定的行或列。\n",
    "iloc的用法类似于loc，但它使用的是整数索引而不是标签。例如，df.iloc[行位置, 列位置]可以用来根据位置选择数据。\n",
    "\n",
    "示例\n",
    "假设有一个包含了不同国家人口统计数据的DataFrame，其行标签是国家名，列名包括\"Population\", \"GDP\"等。\n",
    "\n",
    "使用loc选择特定国家的人口数据：df.loc['Canada', 'Population']。\n",
    "使用iloc选择第三行第二列的数据（记住，索引是从0开始的）：df.iloc[2, 1]。\n",
    "这两种方法让数据选择更加灵活和强大，尤其是在处理复杂的数据集时。选择使用loc还是iloc，取决于你是更倾向于通过标签来识别数据，还是通过位置（索引）来识别数据。"
   ]
  },
  {
   "cell_type": "code",
   "execution_count": null,
   "metadata": {},
   "outputs": [],
   "source": [
    "sentence = \"the quick brown fox jumps over the lazy dog\"\n"
   ]
  }
 ],
 "metadata": {
  "kernelspec": {
   "display_name": "Python 3",
   "language": "python",
   "name": "python3"
  },
  "language_info": {
   "codemirror_mode": {
    "name": "ipython",
    "version": 3
   },
   "file_extension": ".py",
   "mimetype": "text/x-python",
   "name": "python",
   "nbconvert_exporter": "python",
   "pygments_lexer": "ipython3",
   "version": "3.8.19"
  }
 },
 "nbformat": 4,
 "nbformat_minor": 2
}
